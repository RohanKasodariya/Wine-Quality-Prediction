{
 "cells": [
  {
   "cell_type": "code",
   "execution_count": 1,
   "id": "372c805b",
   "metadata": {},
   "outputs": [
    {
     "name": "stdout",
     "output_type": "stream",
     "text": [
      "{'name': 'Rohan', 'email': 'rohankasodariya30@gmail.com'}\n",
      "<class 'dict'>\n"
     ]
    }
   ],
   "source": [
    "import yaml\n",
    "yaml_file_path = \"test.yaml\"\n",
    "\n",
    "#open the yaml file and load its contents\n",
    "\n",
    "with open(yaml_file_path,'r') as yaml_file:\n",
    "    data = yaml.safe_load(yaml_file)\n",
    "\n",
    "print(data)\n",
    "print(type(data))"
   ]
  },
  {
   "cell_type": "code",
   "execution_count": 7,
   "id": "0f8cffb8",
   "metadata": {},
   "outputs": [
    {
     "name": "stdout",
     "output_type": "stream",
     "text": [
      "[2025-07-14 20:10:05,627:INFO:common:yaml file: test.yaml loaded successfully]\n"
     ]
    }
   ],
   "source": [
    "from WineQualityPrediction.utils.common import read_yaml\n",
    "from pathlib import Path\n",
    "data = read_yaml(Path(\"test.yaml\"))"
   ]
  },
  {
   "cell_type": "markdown",
   "id": "694d58c7",
   "metadata": {},
   "source": [
    "#### ConfigBox\n",
    " This allows you to access dictionary values using dot notation instead of the usual bracket notation."
   ]
  },
  {
   "cell_type": "code",
   "execution_count": 8,
   "id": "15e14b54",
   "metadata": {},
   "outputs": [
    {
     "data": {
      "text/plain": [
       "'Rohan'"
      ]
     },
     "execution_count": 8,
     "metadata": {},
     "output_type": "execute_result"
    }
   ],
   "source": [
    "data.name"
   ]
  },
  {
   "cell_type": "markdown",
   "id": "bc4c7923",
   "metadata": {},
   "source": [
    "#### ensure_annotations\n",
    "Encourages you to use correct data types"
   ]
  },
  {
   "cell_type": "code",
   "execution_count": 9,
   "id": "4a5b1ecc",
   "metadata": {},
   "outputs": [],
   "source": [
    "def get_product(x:int,y:int):\n",
    "    return x*y"
   ]
  },
  {
   "cell_type": "code",
   "execution_count": 10,
   "id": "e8aecd3a",
   "metadata": {},
   "outputs": [
    {
     "data": {
      "text/plain": [
       "8"
      ]
     },
     "execution_count": 10,
     "metadata": {},
     "output_type": "execute_result"
    }
   ],
   "source": [
    "get_product(2,4)"
   ]
  },
  {
   "cell_type": "code",
   "execution_count": 11,
   "id": "76daf2c1",
   "metadata": {},
   "outputs": [
    {
     "data": {
      "text/plain": [
       "'44'"
      ]
     },
     "execution_count": 11,
     "metadata": {},
     "output_type": "execute_result"
    }
   ],
   "source": [
    "get_product(2,\"4\")"
   ]
  },
  {
   "cell_type": "code",
   "execution_count": 12,
   "id": "b2f95a66",
   "metadata": {},
   "outputs": [],
   "source": [
    "from ensure import ensure_annotations\n",
    "@ensure_annotations\n",
    "def get_product(x:int,y:int):\n",
    "    return x*y"
   ]
  },
  {
   "cell_type": "code",
   "execution_count": null,
   "id": "cc84c5b2",
   "metadata": {},
   "outputs": [],
   "source": []
  }
 ],
 "metadata": {
  "kernelspec": {
   "display_name": "mlproj",
   "language": "python",
   "name": "python3"
  },
  "language_info": {
   "codemirror_mode": {
    "name": "ipython",
    "version": 3
   },
   "file_extension": ".py",
   "mimetype": "text/x-python",
   "name": "python",
   "nbconvert_exporter": "python",
   "pygments_lexer": "ipython3",
   "version": "3.11.3"
  }
 },
 "nbformat": 4,
 "nbformat_minor": 5
}
